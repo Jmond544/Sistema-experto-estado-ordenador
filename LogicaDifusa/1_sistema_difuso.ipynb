{
 "cells": [
  {
   "cell_type": "code",
   "execution_count": 2,
   "metadata": {},
   "outputs": [],
   "source": [
    "import json"
   ]
  },
  {
   "cell_type": "code",
   "execution_count": 11,
   "metadata": {},
   "outputs": [
    {
     "name": "stdout",
     "output_type": "stream",
     "text": [
      "\n",
      "Diagnóstico:  El rendimiento parece estar dentro de los niveles normales.\n"
     ]
    }
   ],
   "source": [
    "# Cargar las reglas desde el archivo JSON.\n",
    "def cargar_reglas(archivo):\n",
    "    with open(archivo, 'r') as f:\n",
    "        reglas = json.load(f)\n",
    "    return reglas['rules']\n",
    "\n",
    "# Evaluar los síntomas contra las reglas.\n",
    "def diagnostico_pc(sintomas, reglas):\n",
    "    for regla in reglas:\n",
    "        if all(sintoma in sintomas for sintoma in regla['if']):\n",
    "            return regla['then']\n",
    "    return \"No se encontró un diagnóstico específico. Consulta a un especialista.\"\n",
    "\n",
    "# Obtener los síntomas del usuario.\n",
    "def obtener_sintomas():\n",
    "    sintomas = []\n",
    "    # print(\"Responde 'sí' o 'no' a las siguientes preguntas sobre tu ordenador:\\n\").\n",
    "    \n",
    "    lentitud = input(\"¿Tu ordenador está lento? (baja/media/alta): \").lower()\n",
    "    if lentitud in ['baja', 'media', 'alta']:\n",
    "        sintomas.append(f\"lentitud {lentitud}\")\n",
    "    \n",
    "    uso_cpu = input(\"¿El uso del CPU es bajo/medio/alto?: \").lower()\n",
    "    if uso_cpu in ['bajo', 'medio', 'alto']:\n",
    "        sintomas.append(f\"uso de CPU {uso_cpu}\")\n",
    "    \n",
    "    reinicios = input(\"¿El ordenador se reinicia con poca/moderada/frecuente frecuencia?: \").lower()\n",
    "    if reinicios in ['pocos', 'moderados', 'frecuentes']:\n",
    "        sintomas.append(f\"reinicios {reinicios}\")\n",
    "    \n",
    "    temperatura = input(\"¿Cómo describirías la temperatura del ordenador? (fría/normal/caliente): \").lower()\n",
    "    if temperatura in ['fría', 'normal', 'caliente']:\n",
    "        sintomas.append(f\"temperatura {temperatura}\")\n",
    "    \n",
    "    return sintomas\n",
    "\n",
    "# Cargar las reglas\n",
    "reglas = cargar_reglas('reglas_difusas.json')\n",
    "\n",
    "# Obtener síntomas del usuario\n",
    "sintomas_usuario = obtener_sintomas()\n",
    "\n",
    "# Realizar diagnóstico\n",
    "resultado = diagnostico_pc(sintomas_usuario, reglas)\n",
    "print(\"\\nDiagnóstico: \", resultado)"
   ]
  }
 ],
 "metadata": {
  "kernelspec": {
   "display_name": "env",
   "language": "python",
   "name": "python3"
  },
  "language_info": {
   "codemirror_mode": {
    "name": "ipython",
    "version": 3
   },
   "file_extension": ".py",
   "mimetype": "text/x-python",
   "name": "python",
   "nbconvert_exporter": "python",
   "pygments_lexer": "ipython3",
   "version": "3.12.3"
  }
 },
 "nbformat": 4,
 "nbformat_minor": 2
}
